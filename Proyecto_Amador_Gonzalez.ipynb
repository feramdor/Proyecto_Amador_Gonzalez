{
 "cells": [
  {
   "cell_type": "markdown",
   "metadata": {},
   "source": [
    "<img style=\"float: left; margin: 30px 15px 15px 15px;\" src=\"https://pngimage.net/wp-content/uploads/2018/06/logo-iteso-png-5.png\" width=\"300\" height=\"500\" /> \n",
    "    \n",
    "    \n",
    "### <font color='navy'> Simulación de procesos financieros. \n",
    "\n",
    "**Nombres:** María Fernanda Amador Alvarez y Gerardo Gónzalez Flores.\n",
    "\n",
    "**Fecha:** 14 de octubre del 2021.\n",
    "\n",
    "**Expediente** : 725573 y 721430.\n",
    "    \n",
    "**Profesor:** Oscar David Jaramillo Zuluaga.\n",
    "    \n",
    "**Link Github**: https://github.com/feramdor/Proyecto_Amador_Gonzalez\n",
    "\n",
    "# Proyecto TEMA-2"
   ]
  },
  {
   "cell_type": "markdown",
   "metadata": {},
   "source": [
    "<img style=\"float: right; margin: 0px 0px 15px 15px;\" src=\"data:image/jpeg;base64,/9j/4AAQSkZJRgABAQAAAQABAAD/2wCEAAoHCBESERgVEhERERERGRIYEhESERIREQ8SGBgZGRgaGBgcIS4lHB4sHxgYJjgmLC80NTU1GiQ+QDtAPy40ODEBDAwMEA8QHhISHDEhISExNDQ0NDQ0NDE0MTE0MTQ0NDQxNDQ0NDQxNDQ0NDQ0NDQ1MTQxNDQ0NDQ0NDQ0ND80Nv/AABEIAKgBLAMBIgACEQEDEQH/xAAcAAEAAgMBAQEAAAAAAAAAAAACAAEDBQcGBAj/xABKEAACAQIDBQMGCgYIBgMAAAABAgADEQQSIQUGMUFRImFxEzKBkaGxBxQjUmJyssHR8DRCU4KSoiQzVHN0o8LSJWOTpLPhFRY1/8QAGQEBAQEBAQEAAAAAAAAAAAAAAAECAwQF/8QAHxEBAQACAgMBAQEAAAAAAAAAAAECEQNBEiExkQRh/9oADAMBAAIRAxEAPwDsJhMRhMsFGUZZlGUEwmIwmATKMsyjAJgMZhlAMoyzKMAwGMwGATCYjCZQTCYjCYQTAYzCZYCYTEYTKAYTGYDKCZRlmUYAM029oBwFe4BshIB6ggibozT71j+g1/qNFHEK/GbXdhAcSgPXraazE8fVNnuubYlPrCcortFMdkW4AC3qkkp+avgPdLM7oEqIwmGVQmOCBUqIiVKOhmVFDPK2MqXKmgTCYpUAGUZZlGATCYjCYgJhMRhMoJhMRlGADAYzCZQDKMRhMIBhMZhMsAMJiMoygGExmEwAZRiMJlBM029f6DX+o03Jml3vYDZ9ckkAJrYXPnKOF++L8HE8Rx9U2e7X6TT8RPgxqIrAXbVKTeaP10V+v0pst2inxukLvYkXNl4km1u61vbOEvtXZaHmL9VfcJcqgtkUdAB6haMz0RAhjMqUAiURFKtDKpVoobRsdChihM8zajKMsyjNAmGIwmAYTEYTAowmMwRATCYjCZQTCYzAYBMJiMJiAGUYjCZUomAxmEwAZRiMJmgTCYzCYGOExmEywEzzu/zW2ZX7xSHrrUxPQ1XVFLOwVFBLMxsqqNSSeQnJN997PjZ8jRJGFQ3Zjoa7g6G3JRyHp6SZXUHl9p1A1RSCDalhV0NxdaCKfAgggjqDPv2M6LWw5Vhew8oPmv5V7fyFDNORMlJyjBhxGs5K79ROh7mqD1Ow+6MznG6e+pV2p4s2So2ZKvKkx4hvoHjfkSb6HTo417wfUZ2xu4gkSiI5VpoCVaIyoBtKtFaS0MvfGExGUZ5mxMoyzIZQTCYoZQTCYoTAowmIwmAYTGYDKCYTEZRgAwmMwmADCZ9FOkWvblbjpxv+Ej4U9/oI/CEr5TCZ9DUT3+sfhMbJ3e0fhKMJhMzKhvwvYX46e6YELFrEDiRoRpoT0HSWCGEiNkH5tAU/OkoJhMt1mXEUwERl07RVuhuNL+m0DmPwpbYZSmEQlVKipWt+uCSEXw7JJH1ZzZjN9vpimrbRrtZvP8mi8fMCoAPSL/vTUbUwT4es9JypemzKxU3XMpKtbwII9E55XdV8+aTNCZlo08xtcDQnXumR9+ywhYBxdT6x4Tp+61R6JGGqNnpsufCVD80efTPhxA6X5ATlGGaxHdOo7LfNgkc2zYepRdW0JCFgjjuurEembxukr1hlWiIlWnXYNpVo7SrSgWktFJaB7sypcqeZRhiMoywGUYjCZQTDGYTAEoxGUYAMJjMMoBlGIwmATCYzCYH04QdnxJ9gH4x1joPTKw3mj0w1GufCO0YiZheZTMTzUF58xY2t2VHtUT4i1j35h7So+8z66X631fcRPir2Dm/UevMIGUiYzxjY6zGx1lGN+Prmd9aHg9P7QlBQUY96jhwvfn6DBiXy0B9OpTA7+0D9xko4Ptqvau7rbMKtQjMA1muVJseeg17h0mjxeIepUeo5u9Rmd24ZnYksfWZtNsefUOlvLVOevEn8+M0s55KtpEMjSLwkH04c8J0fYjf8Nr25J/qE5vh+U6NsL/8AOxHeg+0JqJXv2GsNpkYQ2nUCVaO0q0A2lWitJaXY9xKMuQzzqJhMcMCjDLlTQMJjMJgGExGUYBMJjMMQAwmMwmUEwxGUYCTEJTTM7BFBOrGw1tYeyayvt2lmORK9T6tF1B8C9gfGarf+g7bPd6TulSgUqq1N2RsqHt6rr5pPqnIBvTtJTZcZXK8RmYPp4sDeTemscdu3Ptw30wtfl5xpqD/OZ87bbe+uFqW/vKd5xk737S/tbfwUf9kob07Rbjin/hpj3LHnHTHDfTtSbZJV1WhWV2UhW+TYA8dbPflyE8jjtuNSpPUrI6Mj0QGDmo7AuhYqHA1GU6cJ4T/5/GEm+Krcx2XKfZtNfineoO07uQMzF3ZyTey8T9aPOb9OuX81xx8r8e7/APveHPHEYseKIPsiUd98P/aMWf3T+E5xTW/5/P5Esi0edc/F0E79JY5auM5aWp2Nr8c3jPopb4HEpkK1stBK1ao+ZFcpTptbKVtY3I9ms5xQQkz3W7WySuzcdiGHn0K1OmeoCFnI7r5R4qZmZZWu2XDjjx+V+9PBV8RmbM2ZgzsxBIDMLi9zyNp8YjqcB+990Ah4qsy0MoyLA+mhynRdgN/w+uOqp9sTnOH5ToW75vgqngg/nWaiV0dhKtGwlWnUC0q0dpVoAtJaO0q0D2kkkk4KqExGUYBMoxQyijCYpRlAMJjMMAmUYjKMAGExmEygGUYiITAxVaaupVhdWBDDqCLGcB3r2OcFiSgDZBcAk3zDiDfwI/In6CInmt9N2lx1Hs2FdB8m3zh80/d4nrJZtrHLVcLyA8NR1kCWn31dk4mixSpRfs31CkrfxGkeF2XWqaLSqMfoox+6crdPo8HDbd9Piw6FmAAuSRYDUk9BOiV9xGXZysEvjVLVKiji6MADSHeqqpHVlPWfVuPuU1Gp8ZxOUsLGjT0OU/Oa2mnIddek96xnTDDu9vP/AE89yvjPkv6/NuIwxVtPNOomIoTpOl/CHs5MORXWjTelUJFTzkZKmpNiptZhc8OIPUTxuzMVTqVlp08KKjuwVF8s/aJNhfs8PTM3Gw48+L7lb+Mu7mw6mJrLTQEX1d7aU0Frnx5AcyROtbawiUtmV6VNctOnhq6qOJsKbcepPG/Wfds7BJRpqqpSRgBn8khVWbnxJJ9Jk2yl8LWFgb0qwsb2N0bQ2m8cdT/XPn5pyZTx9SPzliqeUkfNZ1P7pAmATZbaFq1UchXrj+czWyVwRpFkaRJB9GHnQ93h/RH7/J/bWc8w5nQt3j/RH8aX/kWaiV0siVaMiVaddgWktFaS0A2lWiktA9hJJJOCpKlyjAJlGIypYCZRlyjKCYTGYTAMMZhMAwmMiURAxmEzIRCZQDKMREJEDnPwmbCe6YrDlqbs6pXyMyBwwORzbncW9Imj2FutjKmIoDEVWfCuWZx5Z3LKgzZWU8joPTOlb10Q+CqAi+UI/hkdX/0z5tiJbyR6U63rL07ewGamMuNq7rdEAAAAADQAaADoIGMbGYXMRlqN5qC1MFXDKGC06jgEXsyKXB9Ymv3c2dTyU3FNM6OxVsozKuRlNj07Qm8xyZ6bp89Ki+hlI++fDu4PkEPUOfsTUvqjczFjB8m/1H9xmUTFif6tvqt7pnsfnfb39fW/xGI+2ZqptNun5et/f4j7ZmrE51VtDLMqQfTh50Ld/wDRW1/WoD/NSc9w89/u9+jHvqYf21UE1ErqZEq0ZElp0AtKtHaVaALSWjtJaB6uSSScVSSSSBUJiMkAGUYpRlBhjM8tvrvYuzkULSNevUDMiXyoiKQC7tyF2AHUyj0sNpz3dn4SRXqCni6C4fOwVKyMxpZybBXzcNedz32npd7N5KeARbgPVqZ/J0y2VQqAF3drEhBccBckgDjGk24zvbvDXxWJcvVcKrsiUFZkSiitYaA6t1PG83W7+9uLoKEFZGpLqqVs1S6aXAc9r0XA908ptjFU8Zi3qrTFMVGLVPJjKhPFmyknKT48T3wbQxVRT8mtkFvNS4tbgSQb/wDuVK/ReCxIq0kqL5tVEcc7B1DD3zOROFYXf/E0tmLhqBy1s1QeX506RJbKgP62p15Dv4altqVqTK9PH4lq5GZvlKhKNfg2Y2br0iVbX6JMJE85uDt98fgvKVAPK03anUZRZXZVRgwHK6uLjqDPSNpx0HfIrXbdS+Erj/lVfYhM+HZI7K9yL/M7/wC2fbtfFUxRdC6ZnSoqrmBZjkbQAT4dlsMgsRpTQHuOZz983jfVK2WaBpFMDtKilFzNZu0tsNT7lPup/hNkh1nwbv8A9SvcD90vQ2cx4k9hvqt7ozMWJPYf6re6ZH5322fl6v8AfYj7ZmsE2W21Ir1L/rVa5H/UYfdNbOdVZhJltKkH04cz32wdcOOXyuE9lemZ4ChPfbvn5Be+tgx/npNRK60RKtGRKtOgFpLRWktANpJdpLQPUSSSTiqSSSQJC2nh7py7frf7FUcTUw+EyUvIZRVrOodmdlBsgOgAzAXIJJvwA18hhPhH2gyVKOIqfGKVWnVR/k0p1UzIVBR1AAOt7sCNDLpNul7T+EzZ1B8vy1Zf2lJFKH6pZhm9Gkm0vhF2euH8pQqpXrOoNKgcyPctl+UuOwAdTzsNL3E4lVTyyErTbKmhIdmyDqdLa26Ca7D0GOYAXZOLXAFuhBOp4aDWWzXwle7T4QNs1M7o9MpTBLolKmERb2upPa8DczyG09u4nEVA9arUquBlBqMGZVvmy3Fha9+UqnixTurCzaXXkwPU8LWmvrgO9lIPhwv0BPHl7YqT2+uvtKpVpikNFvmYAakjh4fnpPqw2JeoCWs7WbWoS99bszZj2yWF7HTQacLaqzU2sQL663AOoGhPHh98zspWmQwyHiq5szWYcwOHLib90qvtwO06iOyoUs6urDJTyMO8WtYWvbqBymXDMj5zWdy6KWS3bLt9IngOfomjyFT1GouNQRyPumWgjMSCSBbUjpEqWM+GxKqzNrZyVI0vk069+sW0K6F7U0JaygNrmvrcW9InxvSy6gEryJ4TPg3dLOl1a4Iqa9ixtmB7jzk30a7e/wDg422y5cDUdsO9R2amwFg7Na6uR2g/ZNr6aAaTpqbuYW+aoj1nOpeo9R9e4XsPQJ+d8DjGpV/KCofKU2z06ijOTUU3U69/Wfo7ZO2KGJoJVp1abh1XMUNwr2GZddQQeR1mfCb3fbW6G0MDRWi7ClTDJTqlWyAsvYbgeImu2WqhLgAFlplj849oXPoAHomx25i0XCVznXSlW5/QaaHYOLV1IzAsi0wwv5pOci/osZ0xkk9FbsNC7THnHUQ+UXqPXNIzU5qd2Kl6C9bC/smfa20Eo4arUuD5NKjADiWCmw9JtPLbi7YR3KZtMptfTXQ+4GXoe7LT58a1qbn6D+4xGunzh658e1sUi4eq2YdmnUPHopMyOE7wfpDD6dT21CfvmrqCbDatziX4ntXPd2rfhPirLrOdWMBlSzKkGfDGe93fPySf4jBD/uEngcLxnu93f6un0+M4Mk9AtdCfYJqJXZCJVpjOMpfPX1yvjlL9onrmhltKtMXx2l+0T+ISvjtL9on8QjYzWlWmL45S/aJ/EJfxql89fWI2NsuJf5xmUYhvnSSRUi/jDdT7Jqtv7z0MCgau7Xe4p00XNUqkccq9BcXJsBca6iSSRXCd9drUMbimr0Eq0jVANRK2QZnUBcylWPEAadQddZ52jWZAbG17XtzH4aCSSSj6qe0Ki0mRC4VypazEDs8Lj0zHgsTlZb5bC+a/FtdTcaySQFVriq5YBVtogtcWHAeOsOMpFQgJU5gWAXzlsSCGNuN1vbvEkkqdphlXMXysyqbqhv2rEeeRwXUcON7TK9d2RnIphQQmW1MklrknIe0eZzG+o1NyJJJFTC1KbVRnLrTcWdtHbMRx15Zp81JyodDz0vzAuOHqkkgfe+KL0UpllVKec3IC+d1PEm4hw1NSymnclLhuyWOU/rBefFtONrG3G0kjtJ8YWY0w1PyaBlbz8vbsARYHmDe9+4TYbF3ixGDp1BQZV8tkF2UNkYX7Sg6Zraa93SSSFbhN4MZUw7pUrriKeIV0KlUDoB5xzLbL2b6EGbvciswr1MysExKK9NmBGfyZKG3W1yPRJJNT4dPZs8oXPAXkklg8d8Im00p4YUMyl6rpnS5zCmpzHh1KqPXPDbB2s+HrB2cZBmuLNZmtdb2BNrgX7rySSwdbwe0KdZA9NwysLjiD6jrPl2+5+KVwL5jRrADnfI0kktkHHsU2bEEi5zMbW56mw9cwVuMkk5VWBhBJJMjNhuM9rsLEDIiAjMa1C47g4P4SSSxK98zzEzySTVALys8kkCw8YfxlSQP/2Q==\" width=\"300px\" height=\"100px\" />\n",
    "\n",
    "\n",
    "# Proyecto Módulo 2\n",
    "> Se elegirá una base de datos de producción de vino tinto de la cuál se elegirán 4 variables de interés para la elaboración del proyecto."
   ]
  },
  {
   "cell_type": "markdown",
   "metadata": {},
   "source": [
    "___\n",
    "## 1. Entregable.\n",
    "Los trabajos deben tener los siguientes componentes básicos.\n",
    "\n",
    "### 1.1 Vinos FlorAmor.\n",
    "> Queremos ver cuanto despedicio se tendrá en la producción del vino que se presentará a continuación. \n",
    "\n",
    "### 1.2 Objetivo General.\n",
    "> - Conocer la cantidad de desperdicio que se tendrá por lote en la producción de vino. \n",
    "\n",
    "#### 1.2 Objetivo específico\n",
    ">  - Encontrar la distribución de pH del lote de vino.\n",
    ">  - Encontrar la distribución de alcohol del lote de vino.\n",
    ">  - Encontrar la distribución de azúcar del lote de vino.\n",
    ">  - Encontrar la distribución de sulfato del lote de vino.\n",
    ">  - Simulación de 10,000 escenarios para encontrar el porcentaje % de desperdicio.\n",
    "\n",
    "\n",
    "### 1.3 Definición del problema.\n",
    "> Se plantearán condiciones para la elección del pH, azúcar, sulfato y alcohol que contenga el vino tinto. Una vez pasadas las condiciones de estas variables, se hará la simulación para obtener el porcentaje de despercio de la producción de vino tinto. \n",
    "\n",
    "### 1.4 Nodos y variables que se decidieron simular y porqué\n",
    ">  - PH del lote de vino.\n",
    ">  - Alcohol del lote de vino.\n",
    ">  - Azúcar del lote de vino.\n",
    ">  - Sulfato del lote de vino.\n",
    "\n",
    "### 1.5 Definición de hipótesis y supuestos.\n",
    ">  Para poder modelar un proceso de negocio o cualquiera otro proceso en el área de las ingenierías o ciencias sociales, después de identificar el objeto de estudio, es importante indicar cuales son los supuestos que se dan por verdaderos a lo largo de la ejecución del proceso. Estos supuestos se deben indicar en forma de variables e hipótesis (son diferentes), porque si puedes definir en un valor el supuesto lo llamaremos \"supuesto constante\" y si no es posible identificarlo con un número entonces será una hipótesis que afectará la construcción de los escenarios posibles del proceso.\n",
    "\n",
    "### 1.6 Obtención de bases de datos\n",
    "> **[Link Base de Datos](https://www.kaggle.com/uciml/red-wine-quality-cortez-et-al-2009)**\n",
    "\n",
    "Se busco en la página **kaggle** varias base de datos, le elección de la base de datos de **vino tinto** nos pareció más interesante por la distrución que había de las variables que elgimos y porque no son distribuciones uniformes. \n"
   ]
  },
  {
   "cell_type": "code",
   "execution_count": null,
   "metadata": {},
   "outputs": [],
   "source": []
  }
 ],
 "metadata": {
  "kernelspec": {
   "display_name": "Python 3",
   "language": "python",
   "name": "python3"
  },
  "language_info": {
   "codemirror_mode": {
    "name": "ipython",
    "version": 3
   },
   "file_extension": ".py",
   "mimetype": "text/x-python",
   "name": "python",
   "nbconvert_exporter": "python",
   "pygments_lexer": "ipython3",
   "version": "3.7.3"
  }
 },
 "nbformat": 4,
 "nbformat_minor": 2
}
